{
 "cells": [
  {
   "cell_type": "code",
   "execution_count": 1,
   "metadata": {
    "collapsed": false
   },
   "outputs": [],
   "source": [
    "import numpy as np\n",
    "import pandas as pd\n",
    "import psycopg2\n",
    "from sklearn.feature_extraction.text import TfidfVectorizer\n",
    "from sklearn.metrics.pairwise import linear_kernel\n",
    "from scipy.spatial.distance import cosine"
   ]
  },
  {
   "cell_type": "code",
   "execution_count": 2,
   "metadata": {
    "collapsed": false
   },
   "outputs": [],
   "source": [
    "import pyspark as ps\n",
    "from pyspark import SparkContext\n",
    "from pyspark.mllib.feature import HashingTF, IDF\n",
    "from pyspark.sql import SQLContext"
   ]
  },
  {
   "cell_type": "code",
   "execution_count": 4,
   "metadata": {
    "collapsed": false
   },
   "outputs": [],
   "source": [
    "# connect to database\n",
    "conn = psycopg2.connect(dbname='thingiscrape', user='robert', host='/tmp')\n",
    "c = conn.cursor()"
   ]
  },
  {
   "cell_type": "code",
   "execution_count": 5,
   "metadata": {
    "collapsed": true
   },
   "outputs": [],
   "source": [
    "# query database\n",
    "num_records = 1000\n",
    "SQL = \"SELECT DISTINCT * FROM thingi_items ORDER BY item_id LIMIT({})\".format(num_records)\n",
    "c.execute(SQL)\n",
    "full_df = pd.DataFrame(c.fetchall(), columns = ['item_id','item_name','description','username'])"
   ]
  },
  {
   "cell_type": "code",
   "execution_count": 6,
   "metadata": {
    "collapsed": false
   },
   "outputs": [],
   "source": [
    "full_df['docs'] = full_df.pop('item_name') + ' ' + full_df.pop('description')"
   ]
  },
  {
   "cell_type": "code",
   "execution_count": 7,
   "metadata": {
    "collapsed": false
   },
   "outputs": [
    {
     "data": {
      "text/html": [
       "<div>\n",
       "<table border=\"1\" class=\"dataframe\">\n",
       "  <thead>\n",
       "    <tr style=\"text-align: right;\">\n",
       "      <th></th>\n",
       "      <th>item_id</th>\n",
       "      <th>username</th>\n",
       "      <th>docs</th>\n",
       "    </tr>\n",
       "  </thead>\n",
       "  <tbody>\n",
       "    <tr>\n",
       "      <th>0</th>\n",
       "      <td>2</td>\n",
       "      <td>replicator</td>\n",
       "      <td>MakerBot Screwdriver It's a small screwdriver,...</td>\n",
       "    </tr>\n",
       "    <tr>\n",
       "      <th>1</th>\n",
       "      <td>3</td>\n",
       "      <td>replicator</td>\n",
       "      <td>MakerBot Plate It's an oblong sheet, about fou...</td>\n",
       "    </tr>\n",
       "    <tr>\n",
       "      <th>2</th>\n",
       "      <td>5</td>\n",
       "      <td>replicator</td>\n",
       "      <td>MakerBot Hook It's a double-ended hook. Rather...</td>\n",
       "    </tr>\n",
       "    <tr>\n",
       "      <th>3</th>\n",
       "      <td>7</td>\n",
       "      <td>phooky</td>\n",
       "      <td>1st stellation of a dodecahedron This is a slo...</td>\n",
       "    </tr>\n",
       "    <tr>\n",
       "      <th>4</th>\n",
       "      <td>8</td>\n",
       "      <td>replicator</td>\n",
       "      <td>MakerBot Knob This is a small, slightly blocky...</td>\n",
       "    </tr>\n",
       "  </tbody>\n",
       "</table>\n",
       "</div>"
      ],
      "text/plain": [
       "   item_id    username                                               docs\n",
       "0        2  replicator  MakerBot Screwdriver It's a small screwdriver,...\n",
       "1        3  replicator  MakerBot Plate It's an oblong sheet, about fou...\n",
       "2        5  replicator  MakerBot Hook It's a double-ended hook. Rather...\n",
       "3        7      phooky  1st stellation of a dodecahedron This is a slo...\n",
       "4        8  replicator  MakerBot Knob This is a small, slightly blocky..."
      ]
     },
     "execution_count": 7,
     "metadata": {},
     "output_type": "execute_result"
    }
   ],
   "source": [
    "full_df.head()"
   ]
  },
  {
   "cell_type": "code",
   "execution_count": 8,
   "metadata": {
    "collapsed": false
   },
   "outputs": [],
   "source": [
    "sc = SparkContext('local[4]')\n",
    "sqlContext = SQLContext(sc)"
   ]
  },
  {
   "cell_type": "code",
   "execution_count": 9,
   "metadata": {
    "collapsed": true
   },
   "outputs": [],
   "source": [
    "docs_rdd = sc.parallelize(full_df['docs'])"
   ]
  },
  {
   "cell_type": "code",
   "execution_count": 10,
   "metadata": {
    "collapsed": false
   },
   "outputs": [
    {
     "data": {
      "text/plain": [
       "[\"MakerBot Screwdriver It's a small screwdriver, extruded as a single piece. Probably no good for heavy jobs, but still handy (Did you know that the Phillips-head screwdriver was named after the legendary Crafty King Phillip of ancient times, whose sons went on to invent the bandsaw and the pre-sliced banana? Although, now that you look, this screwdriver is a Flathead. Never mind.) \",\n",
       " \"MakerBot Plate It's an oblong sheet, about four inches long, slightly flared at the ends. You're not sure what its purpose is. One face is decorated with strange ridges, and the whole is pierced by several square holes, irregularly placed Attractive, though, isn't it? Sort of like a butterfly. \"]"
      ]
     },
     "execution_count": 10,
     "metadata": {},
     "output_type": "execute_result"
    }
   ],
   "source": [
    "docs_rdd.take(2)"
   ]
  },
  {
   "cell_type": "code",
   "execution_count": 11,
   "metadata": {
    "collapsed": false
   },
   "outputs": [],
   "source": [
    "hashingTF = HashingTF(numFeatures=500)\n",
    "tf = hashingTF.transform(docs_rdd)\n",
    "\n",
    "idf = IDF().fit(tf)"
   ]
  },
  {
   "cell_type": "code",
   "execution_count": 12,
   "metadata": {
    "collapsed": true
   },
   "outputs": [],
   "source": [
    "tfidf = idf.transform(tf)"
   ]
  },
  {
   "cell_type": "code",
   "execution_count": 13,
   "metadata": {
    "collapsed": false
   },
   "outputs": [
    {
     "data": {
      "text/plain": [
       "[SparseVector(500, {1: 0.5523, 14: 0.6492, 24: 0.6685, 31: 1.0887, 41: 1.4024, 44: 0.5541, 81: 0.643, 84: 1.1364, 104: 0.2482, 114: 0.7057, 121: 0.1924, 144: 0.7246, 154: 0.5597, 161: 0.069, 181: 0.8084, 194: 0.613, 201: 0.6646, 211: 0.445, 231: 0.9459, 234: 0.1142, 254: 2.0489, 271: 0.243, 274: 1.1341, 284: 0.8877, 294: 0.7646, 301: 1.9361, 311: 0.8829, 314: 1.6587, 321: 0.0, 324: 1.5551, 344: 0.052, 351: 0.1002, 374: 2.2936, 384: 0.2386, 391: 0.0841, 401: 0.9792, 411: 0.7885, 424: 0.04, 431: 1.439, 441: 1.8531, 451: 1.1983, 454: 0.5509, 464: 0.184}),\n",
       " SparseVector(500, {1: 0.2599, 4: 1.5428, 14: 1.9475, 24: 0.6685, 41: 0.9641, 44: 0.9973, 81: 0.6001, 84: 0.6494, 104: 0.2482, 114: 0.6049, 121: 0.1924, 144: 0.7246, 154: 0.7835, 161: 0.072, 194: 0.4087, 211: 0.445, 231: 0.6306, 234: 0.0902, 254: 2.0489, 264: 1.4492, 271: 0.3037, 274: 1.0147, 301: 0.6454, 314: 0.4976, 321: 0.0, 344: 0.034, 351: 0.0501, 384: 0.2105, 391: 0.0721, 411: 0.7885, 414: 1.4198, 424: 0.028, 431: 0.4111, 441: 2.2237, 454: 0.5509})]"
      ]
     },
     "execution_count": 13,
     "metadata": {},
     "output_type": "execute_result"
    }
   ],
   "source": [
    "tfidf.take(2)"
   ]
  },
  {
   "cell_type": "code",
   "execution_count": 14,
   "metadata": {
    "collapsed": false
   },
   "outputs": [
    {
     "data": {
      "text/plain": [
       "pyspark.mllib.linalg.SparseVector"
      ]
     },
     "execution_count": 14,
     "metadata": {},
     "output_type": "execute_result"
    }
   ],
   "source": [
    "type(tfidf.take(1)[0])"
   ]
  },
  {
   "cell_type": "code",
   "execution_count": 15,
   "metadata": {
    "collapsed": false
   },
   "outputs": [],
   "source": [
    "# transform names and descriptions\n",
    "# tfidfvect = TfidfVectorizer(stop_words='english', max_features = 1000)\n",
    "# documents_vec = full_df['item_name'] + ' ' + full_df['description']\n",
    "# vec_X = tfidfvect.fit_transform(documents_vec).toarray()\n",
    "# del documents_vec"
   ]
  },
  {
   "cell_type": "code",
   "execution_count": 16,
   "metadata": {
    "collapsed": true
   },
   "outputs": [],
   "source": [
    "def get_top_users_and_parts(user_ind, username):\n",
    "    # df_user_removed = df.drop(user_ind, axis = 0, inplace = False)\n",
    "    # X_user_removed = np.delete(X, user_ind, axis = 0)\n",
    "    n_items = 5\n",
    "\n",
    "    while True:\n",
    "        similar_users = []\n",
    "        similar_parts = []\n",
    "        base_ids = full_df.iloc[user_ind]['item_id']\n",
    "        \n",
    "        for i in user_ind:\n",
    "            # base_item = vec_X[i].reshape(1, -1)\n",
    "            base_item_id = full_df.iloc[i]['item_id']\n",
    "            # distances_vector = np.apply_along_axis(lambda x: cosine(x,base_item), 1, vec_X)\n",
    "            # distances_vector = linear_kernel(base_item, vec_X)\n",
    "            distances_vector = linear_kernel(vec_X[i:i+1], vec_X).flatten()\n",
    "            similar_indices = np.argsort(distances_vector)[::-1]\n",
    "            similar_items = full_df.iloc[np.ravel(similar_indices[:n_items])]\n",
    "\n",
    "            similar_users.extend(list(similar_items['username']))\n",
    "            similar_parts.extend(list(similar_items['item_id']))\n",
    "        \n",
    "        for item_id in base_ids:\n",
    "            if item_id in similar_parts:\n",
    "                similar_parts.remove(item_id)\n",
    "\n",
    "        similar_users_set = set(similar_users)\n",
    "        similar_parts_set = set(similar_parts)\n",
    "\n",
    "        similar_users_set.discard(username)\n",
    "\n",
    "        if len(similar_users_set) >= 5:\n",
    "            break\n",
    "        else:\n",
    "            n_items += 2\n",
    "\n",
    "    top_similar_users = sorted(similar_users_set, key = lambda x: similar_users.count(x), reverse = True)[:5]\n",
    "    top_similar_parts = sorted(similar_parts_set, key = lambda x: similar_parts.count(x), reverse = True)[:5]\n",
    "    return top_similar_users, top_similar_parts"
   ]
  },
  {
   "cell_type": "code",
   "execution_count": 17,
   "metadata": {
    "collapsed": false
   },
   "outputs": [
    {
     "ename": "NameError",
     "evalue": "name 'time' is not defined",
     "output_type": "error",
     "traceback": [
      "\u001b[0;31m---------------------------------------------------------------------------\u001b[0m",
      "\u001b[0;31mNameError\u001b[0m                                 Traceback (most recent call last)",
      "\u001b[0;32m<ipython-input-17-0a2577b9b285>\u001b[0m in \u001b[0;36m<module>\u001b[0;34m()\u001b[0m\n\u001b[1;32m      1\u001b[0m \u001b[0musername\u001b[0m \u001b[0;34m=\u001b[0m \u001b[0;34m'phooky'\u001b[0m\u001b[0;34m\u001b[0m\u001b[0m\n\u001b[1;32m      2\u001b[0m \u001b[0;34m\u001b[0m\u001b[0m\n\u001b[0;32m----> 3\u001b[0;31m \u001b[0mrec_start\u001b[0m \u001b[0;34m=\u001b[0m \u001b[0mtime\u001b[0m\u001b[0;34m.\u001b[0m\u001b[0mtime\u001b[0m\u001b[0;34m(\u001b[0m\u001b[0;34m)\u001b[0m\u001b[0;34m\u001b[0m\u001b[0m\n\u001b[0m\u001b[1;32m      4\u001b[0m \u001b[0;32mprint\u001b[0m \u001b[0;34m\"recommending!!!\"\u001b[0m\u001b[0;34m\u001b[0m\u001b[0m\n\u001b[1;32m      5\u001b[0m \u001b[0;31m# username = str(request.form['user_input'])\u001b[0m\u001b[0;34m\u001b[0m\u001b[0;34m\u001b[0m\u001b[0m\n",
      "\u001b[0;31mNameError\u001b[0m: name 'time' is not defined"
     ]
    }
   ],
   "source": [
    "username = 'phooky'\n",
    "\n",
    "rec_start = time.time()\n",
    "print \"recommending!!!\"\n",
    "# username = str(request.form['user_input'])\n",
    "user_ind = np.ravel(np.argwhere(full_df['username']==username))\n",
    "print user_ind\n",
    "users, parts = get_top_users_and_parts(user_ind, username)\n",
    "rec_end = time.time()\n",
    "print \"time to recommend: {}\".format(rec_end-rec_start)"
   ]
  },
  {
   "cell_type": "code",
   "execution_count": null,
   "metadata": {
    "collapsed": true
   },
   "outputs": [],
   "source": []
  }
 ],
 "metadata": {
  "kernelspec": {
   "display_name": "Python 2",
   "language": "python",
   "name": "python2"
  },
  "language_info": {
   "codemirror_mode": {
    "name": "ipython",
    "version": 2
   },
   "file_extension": ".py",
   "mimetype": "text/x-python",
   "name": "python",
   "nbconvert_exporter": "python",
   "pygments_lexer": "ipython2",
   "version": "2.7.11"
  }
 },
 "nbformat": 4,
 "nbformat_minor": 0
}
