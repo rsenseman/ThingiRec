{
 "cells": [
  {
   "cell_type": "code",
   "execution_count": null,
   "metadata": {
    "collapsed": true
   },
   "outputs": [],
   "source": [
    "import pandas as pd\n",
    "import requests\n",
    "from bs4 import BeautifulSoup\n",
    "import time"
   ]
  },
  {
   "cell_type": "code",
   "execution_count": null,
   "metadata": {
    "collapsed": true
   },
   "outputs": [],
   "source": [
    "thingiverse_item_data = pd.DataFrame([['itemid','item_name','description','username']])"
   ]
  },
  {
   "cell_type": "code",
   "execution_count": null,
   "metadata": {
    "collapsed": false
   },
   "outputs": [],
   "source": [
    "for i in xrange(0,20000):\n",
    "    if i%500 == 0:\n",
    "        thingiverse_item_data.to_csv('thingi_item_data_cache_{}.csv'.format(i), encoding = 'utf-8')\n",
    "        print('{} units analyzed'.format(i))\n",
    "    try:\n",
    "        res = requests.get('http://www.thingiverse.com/thing:{}'.format(i))\n",
    "        res.raise_for_status()\n",
    "        soup = BeautifulSoup(res.text, 'lxml')\n",
    "\n",
    "        thing_name = soup.select('div[class=\"thing-header-data\"]')\n",
    "        item_name = thing_name[0].text.split('by')[0].strip()\n",
    "        username[0].text.split('by')[1][1:-102]\n",
    "\n",
    "        thing_page = soup.select('div[id=\"thing-page\"]')\n",
    "        item_id = thing_page[0].attrs['data-thing-id']\n",
    "\n",
    "        description_object = soup.select('div[id=\"description\"]')\n",
    "        item_description = \"\".join(description_object[0].text.split('\\n'))[7:]\n",
    "\n",
    "        thingiverse_item_data = thingiverse_item_data.append([[item_id, item_name, item_description, username]])\n",
    "        \n",
    "        time.sleep(.1)\n",
    "    except:\n",
    "        continue\n",
    "        \n",
    "thingiverse_item_data.to_csv('thingi_item_data_cache_{}.csv'.format('final'), encoding = 'utf-8')\n",
    "\n",
    "thingiverse_item_data.tail()"
   ]
  },
  {
   "cell_type": "code",
   "execution_count": null,
   "metadata": {
    "collapsed": true
   },
   "outputs": [],
   "source": []
  }
 ],
 "metadata": {
  "kernelspec": {
   "display_name": "Python 2",
   "language": "python",
   "name": "python2"
  },
  "language_info": {
   "codemirror_mode": {
    "name": "ipython",
    "version": 2
   },
   "file_extension": ".py",
   "mimetype": "text/x-python",
   "name": "python",
   "nbconvert_exporter": "python",
   "pygments_lexer": "ipython2",
   "version": "2.7.11"
  }
 },
 "nbformat": 4,
 "nbformat_minor": 0
}
