{
 "cells": [
  {
   "cell_type": "code",
   "execution_count": null,
   "metadata": {
    "collapsed": true
   },
   "outputs": [],
   "source": [
    "import pandas as pd\n",
    "import requests\n",
    "from bs4 import BeautifulSoup\n",
    "import time"
   ]
  },
  {
   "cell_type": "code",
   "execution_count": null,
   "metadata": {
    "collapsed": true
   },
   "outputs": [],
   "source": [
    "thingiverse_item_data = pd.DataFrame([['itemid','item_name','description','username']])"
   ]
  },
  {
   "cell_type": "code",
   "execution_count": null,
   "metadata": {
    "collapsed": false
   },
   "outputs": [],
   "source": [
    "range_tup = (0,100)\n",
    "sleep_time = 5\n",
    "\n",
    "thingiverse_item_data = pd.DataFrame([['itemid','item_name','description','username']])\n",
    "\n",
    "for i in xrange(range_tup[0],range_tup[1]):\n",
    "\n",
    "    time.sleep(float(sleep_time))\n",
    "\n",
    "    if i%500 == 0:\n",
    "        print i\n",
    "        print \"{} Records collected since last cache\".format(len(thingiverse_item_data))\n",
    "\n",
    "        thingiverse_item_data.to_csv('thingi_item_data_cache_{}.csv'.format(i), encoding = 'utf-8')\n",
    "\n",
    "        del thingiverse_item_data\n",
    "        thingiverse_item_data = pd.DataFrame([['itemid','item_name','description','username']])\n",
    "\n",
    "    try:\n",
    "        res = requests.get('http://www.thingiverse.com/thing:{}'.format(i))\n",
    "        res.raise_for_status()\n",
    "        soup = BeautifulSoup(res.text, 'lxml')\n",
    "\n",
    "        thing_name = soup.select('div[class=\"thing-header-data\"]')\n",
    "        item_name = thing_name[0].text.split('by')[0].strip()\n",
    "        username = thing_name[0].text.split('by')[1].split(',')[0][1:]\n",
    "\n",
    "#         thing_page = soup.select('div[id=\"thing-page\"]')\n",
    "#         item_id = thing_page[0].attrs['data-thing-id']\n",
    "        item_id = i\n",
    "    \n",
    "        description_object = soup.select('div[id=\"description\"]')\n",
    "        item_description = \"\".join(description_object[0].text.split('\\n'))[7:]\n",
    "        item_description = item_description.replace('.Instructions', ' ')\n",
    "        \n",
    "        print \"{} collected: {}\".format(i, item_name)\n",
    "        thingiverse_item_data = thingiverse_item_data.append([[item_id, item_name, item_description, username]])\n",
    "\n",
    "    except:\n",
    "        print \"{} ...\".format(i)\n",
    "        continue\n",
    "\n",
    "thingiverse_item_data.to_csv('thingi_item_data_cache_{}.csv'.format('final'), encoding = 'utf-8')\n",
    "\n",
    "thingiverse_item_data.tail()"
   ]
  },
  {
   "cell_type": "code",
   "execution_count": null,
   "metadata": {
    "collapsed": false
   },
   "outputs": [],
   "source": [
    "# i = 101\n",
    "\n",
    "# res = requests.get('http://www.thingiverse.com/thing:{}'.format(i))\n",
    "# res.raise_for_status()\n",
    "# soup = BeautifulSoup(res.text, 'lxml')\n",
    "\n",
    "# thing_name = soup.select('div[class=\"thing-header-data\"]')\n",
    "# item_name = thing_name[0].text.split('by')[0].strip()\n",
    "# username = thing_name[0].text.split('by')[1].split(',')[0][1:]\n",
    "\n",
    "# thing_page = soup.select('div[id=\"thing-page\"]')\n",
    "# item_id = thing_page[0].attrs['data-thing-id']\n",
    "\n",
    "# description_object = soup.select('div[id=\"description\"]')\n",
    "# item_description = \"\".join(description_object[0].text.split('\\n'))[7:]\n",
    "# item_description = item_description.replace('.Instructions', ' ')\n",
    "\n",
    "# print item_id\n",
    "# print item_name\n",
    "# print item_description\n",
    "# print username"
   ]
  },
  {
   "cell_type": "code",
   "execution_count": null,
   "metadata": {
    "collapsed": true
   },
   "outputs": [],
   "source": []
  }
 ],
 "metadata": {
  "kernelspec": {
   "display_name": "Python 2",
   "language": "python",
   "name": "python2"
  },
  "language_info": {
   "codemirror_mode": {
    "name": "ipython",
    "version": 2
   },
   "file_extension": ".py",
   "mimetype": "text/x-python",
   "name": "python",
   "nbconvert_exporter": "python",
   "pygments_lexer": "ipython2",
   "version": "2.7.11"
  }
 },
 "nbformat": 4,
 "nbformat_minor": 0
}
