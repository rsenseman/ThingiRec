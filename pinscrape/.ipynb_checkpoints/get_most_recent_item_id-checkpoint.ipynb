{
 "cells": [
  {
   "cell_type": "code",
   "execution_count": 1,
   "metadata": {
    "collapsed": false
   },
   "outputs": [],
   "source": [
    "from selenium import webdriver"
   ]
  },
  {
   "cell_type": "code",
   "execution_count": 2,
   "metadata": {
    "collapsed": false
   },
   "outputs": [],
   "source": [
    "def get_most_recent_item_id():\n",
    "    driver = webdriver.Firefox()\n",
    "    driver.get(\"https://pinshape.com/3d-marketplace?sort-by=newest\")\n",
    "    new_items = driver.find_elements_by_xpath(\"//html/body/div/section/div/div/ul/li\")\n",
    "    newest_item_id = new_items[0].get_attribute(\"id\")\n",
    "    driver.close()\n",
    "    return newest_item_id"
   ]
  },
  {
   "cell_type": "code",
   "execution_count": 3,
   "metadata": {
    "collapsed": false
   },
   "outputs": [
    {
     "name": "stdout",
     "output_type": "stream",
     "text": [
      "20668\n"
     ]
    }
   ],
   "source": [
    "print get_most_recent_item_id()"
   ]
  }
 ],
 "metadata": {
  "kernelspec": {
   "display_name": "Python 2",
   "language": "python",
   "name": "python2"
  },
  "language_info": {
   "codemirror_mode": {
    "name": "ipython",
    "version": 2
   },
   "file_extension": ".py",
   "mimetype": "text/x-python",
   "name": "python",
   "nbconvert_exporter": "python",
   "pygments_lexer": "ipython2",
   "version": "2.7.10"
  }
 },
 "nbformat": 4,
 "nbformat_minor": 0
}
