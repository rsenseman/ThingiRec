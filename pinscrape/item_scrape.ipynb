{
 "cells": [
  {
   "cell_type": "code",
   "execution_count": 2,
   "metadata": {
    "collapsed": true
   },
   "outputs": [],
   "source": [
    "from selenium import webdriver\n",
    "import pandas as pd"
   ]
  },
  {
   "cell_type": "code",
   "execution_count": null,
   "metadata": {
    "collapsed": false
   },
   "outputs": [],
   "source": [
    "pinshape_item_data = pd.DataFrame([['itemid','item_name','description','userid','username']])\n",
    "\n",
    "driver = webdriver.Firefox()\n",
    "\n",
    "for i in xrange(19582,26000):\n",
    "    \n",
    "    if i%500 == 0:\n",
    "        pinshape_item_data.to_csv('item_data_cache_{}.csv'.format(i), encoding = 'utf-8')\n",
    "    \n",
    "    try:    \n",
    "        driver.get(\"https://pinshape.com/items/{}\".format(i))\n",
    "        name = driver.find_element_by_id('design-name')\n",
    "        item_name = name.text\n",
    "\n",
    "        user = driver.find_element_by_class_name('designed-by')\n",
    "        user_text = user.text\n",
    "        username = user_text[11:].strip() # Remove initial text \"Designed by\" and strip whitespace\n",
    "\n",
    "        id_elem = user.find_element_by_tag_name('a')\n",
    "        id_string = id_elem.get_attribute('href')\n",
    "        userid = id_string.split('/')[-1].split('-')[0]\n",
    "\n",
    "        desc = driver.find_elements_by_xpath('//html/body/div/section/div/div/section/div')\n",
    "        description = desc[5].text\n",
    "\n",
    "        pinshape_item_data = pinshape_item_data.append([[i, item_name, description, userid, username]])\n",
    "        \n",
    "    except:\n",
    "        continue\n",
    "        \n",
    "pinshape_item_data.to_csv('item_data_cache_{}.csv'.format('final'), encoding = 'utf-8')        \n",
    "\n",
    "driver.close()\n",
    "\n",
    "pinshape_item_data.tail()"
   ]
  },
  {
   "cell_type": "code",
   "execution_count": null,
   "metadata": {
    "collapsed": true
   },
   "outputs": [],
   "source": []
  }
 ],
 "metadata": {
  "kernelspec": {
   "display_name": "Python 2",
   "language": "python",
   "name": "python2"
  },
  "language_info": {
   "codemirror_mode": {
    "name": "ipython",
    "version": 2
   },
   "file_extension": ".py",
   "mimetype": "text/x-python",
   "name": "python",
   "nbconvert_exporter": "python",
   "pygments_lexer": "ipython2",
   "version": "2.7.11"
  }
 },
 "nbformat": 4,
 "nbformat_minor": 0
}
