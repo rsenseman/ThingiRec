{
 "cells": [
  {
   "cell_type": "code",
   "execution_count": 1,
   "metadata": {
    "collapsed": true
   },
   "outputs": [],
   "source": [
    "from selenium import webdriver\n",
    "import pandas as pd"
   ]
  },
  {
   "cell_type": "code",
   "execution_count": 2,
   "metadata": {
    "collapsed": false
   },
   "outputs": [
    {
     "data": {
      "text/html": [
       "<div>\n",
       "<table border=\"1\" class=\"dataframe\">\n",
       "  <thead>\n",
       "    <tr style=\"text-align: right;\">\n",
       "      <th></th>\n",
       "      <th>0</th>\n",
       "      <th>1</th>\n",
       "      <th>2</th>\n",
       "      <th>3</th>\n",
       "      <th>4</th>\n",
       "    </tr>\n",
       "  </thead>\n",
       "  <tbody>\n",
       "    <tr>\n",
       "      <th>0</th>\n",
       "      <td>itemid</td>\n",
       "      <td>item_name</td>\n",
       "      <td>description</td>\n",
       "      <td>userid</td>\n",
       "      <td>username</td>\n",
       "    </tr>\n",
       "    <tr>\n",
       "      <th>0</th>\n",
       "      <td>17396</td>\n",
       "      <td>Lithuania countryball</td>\n",
       "      <td>Lithuanian countryball model.\\nThis countrybal...</td>\n",
       "      <td>30817</td>\n",
       "      <td>Ryšard Poplavskij</td>\n",
       "    </tr>\n",
       "    <tr>\n",
       "      <th>0</th>\n",
       "      <td>17397</td>\n",
       "      <td>Front Panel Cover for Dell precision</td>\n",
       "      <td>Subtitute for original front panel cover. Fits...</td>\n",
       "      <td>41255</td>\n",
       "      <td>TRENDi77</td>\n",
       "    </tr>\n",
       "    <tr>\n",
       "      <th>0</th>\n",
       "      <td>17398</td>\n",
       "      <td>Claire Redfield - Resident Evil - Pose01</td>\n",
       "      <td></td>\n",
       "      <td>55431</td>\n",
       "      <td>solid</td>\n",
       "    </tr>\n",
       "    <tr>\n",
       "      <th>0</th>\n",
       "      <td>17399</td>\n",
       "      <td>Claire Redfield - Resident Evil - Pose02</td>\n",
       "      <td>3D-printable model of Claire Redfield from Res...</td>\n",
       "      <td>55431</td>\n",
       "      <td>solid</td>\n",
       "    </tr>\n",
       "  </tbody>\n",
       "</table>\n",
       "</div>"
      ],
      "text/plain": [
       "        0                                         1  \\\n",
       "0  itemid                                 item_name   \n",
       "0   17396                     Lithuania countryball   \n",
       "0   17397      Front Panel Cover for Dell precision   \n",
       "0   17398  Claire Redfield - Resident Evil - Pose01   \n",
       "0   17399  Claire Redfield - Resident Evil - Pose02   \n",
       "\n",
       "                                                   2       3  \\\n",
       "0                                        description  userid   \n",
       "0  Lithuanian countryball model.\\nThis countrybal...   30817   \n",
       "0  Subtitute for original front panel cover. Fits...   41255   \n",
       "0                                                      55431   \n",
       "0  3D-printable model of Claire Redfield from Res...   55431   \n",
       "\n",
       "                   4  \n",
       "0           username  \n",
       "0  Ryšard Poplavskij  \n",
       "0           TRENDi77  \n",
       "0              solid  \n",
       "0              solid  "
      ]
     },
     "execution_count": 2,
     "metadata": {},
     "output_type": "execute_result"
    }
   ],
   "source": [
    "pinshape_item_data = pd.DataFrame([['itemid','item_name','description','userid','username']])\n",
    "\n",
    "driver = webdriver.Firefox()\n",
    "\n",
    "for i in xrange(17396,20668):\n",
    "    \n",
    "    if i%500 == 0:\n",
    "        pinshape_item_data.to_csv('item_data_cache_{}.csv'.format(i), encoding = 'utf-8')\n",
    "    \n",
    "    try:    \n",
    "        driver.get(\"https://pinshape.com/items/{}\".format(i))\n",
    "        name = driver.find_element_by_id('design-name')\n",
    "        item_name = name.text\n",
    "\n",
    "        user = driver.find_element_by_class_name('designed-by')\n",
    "        user_text = user.text\n",
    "        username = user_text[11:].strip() # Remove initial text \"Designed by\" and strip whitespace\n",
    "\n",
    "        id_elem = user.find_element_by_tag_name('a')\n",
    "        id_string = id_elem.get_attribute('href')\n",
    "        userid = id_string.split('/')[-1].split('-')[0]\n",
    "\n",
    "        desc = driver.find_elements_by_xpath('//html/body/div/section/div/div/section/div')\n",
    "        description = desc[5].text\n",
    "\n",
    "        pinshape_item_data = pinshape_item_data.append([[i, item_name, description, userid, username]])\n",
    "        \n",
    "    except:\n",
    "        continue\n",
    "        \n",
    "pinshape_item_data.to_csv('item_data_cache_{}.csv'.format('final'), encoding = 'utf-8')        \n",
    "\n",
    "driver.close()\n",
    "\n",
    "pinshape_item_data.head()"
   ]
  },
  {
   "cell_type": "code",
   "execution_count": null,
   "metadata": {
    "collapsed": true
   },
   "outputs": [],
   "source": []
  }
 ],
 "metadata": {
  "kernelspec": {
   "display_name": "Python 2",
   "language": "python",
   "name": "python2"
  },
  "language_info": {
   "codemirror_mode": {
    "name": "ipython",
    "version": 2
   },
   "file_extension": ".py",
   "mimetype": "text/x-python",
   "name": "python",
   "nbconvert_exporter": "python",
   "pygments_lexer": "ipython2",
   "version": "2.7.11"
  }
 },
 "nbformat": 4,
 "nbformat_minor": 0
}
